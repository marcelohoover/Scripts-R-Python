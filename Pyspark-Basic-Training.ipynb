{
 "cells": [
  {
   "cell_type": "code",
   "execution_count": null,
   "id": "cd5e3459-c7d3-4f3b-91f1-a946adfe360e",
   "metadata": {},
   "outputs": [],
   "source": [
    "'''\n",
    "pip install pyspark\n",
    "\n",
    "PYSPARK_DRIVER_PYTHON = python\n",
    "\n",
    "!pip install findspark\n",
    "\n",
    "import findspark\n",
    "findspark.init()\n",
    "findspark.find()\n",
    "\n",
    "import pyspark\n",
    "from pyspark.sql import SparkSession\n",
    "\n",
    "spark_session = SparkSession.builder.appName('cluster').getOrCreate()\n",
    "spark_session\n",
    "\n",
    "\n",
    "spark_session.stop()\n",
    "'''"
   ]
  },
  {
   "cell_type": "code",
   "execution_count": null,
   "id": "c3d10bdb-30dc-4c28-b4ff-fa2edbf1ce31",
   "metadata": {},
   "outputs": [],
   "source": [
    "#!pip install findspark"
   ]
  },
  {
   "cell_type": "code",
   "execution_count": null,
   "id": "104663e7-48ee-404d-84de-599505879a06",
   "metadata": {},
   "outputs": [],
   "source": [
    "import pyspark\n",
    "from pyspark.sql import SparkSession\n",
    "\n",
    "from pyspark.sql.types import *\n"
   ]
  },
  {
   "cell_type": "code",
   "execution_count": null,
   "id": "5efb0432-b968-4129-9d66-0450cb4ccd46",
   "metadata": {},
   "outputs": [],
   "source": [
    "import findspark\n",
    "findspark.init()\n",
    "findspark.find()"
   ]
  },
  {
   "cell_type": "code",
   "execution_count": null,
   "id": "a1d3f59d-d884-4d42-a7ab-48b754faf944",
   "metadata": {},
   "outputs": [],
   "source": [
    "Schema = StructType([\n",
    "    StructField(\"numpoliza\", StringType(), True),\n",
    "    StructField(\"numorden\", LongType(), True),\n",
    "    StructField(\"rutbeneficiario\", LongType(), True),\n",
    "    StructField(\"dvrutbeneficiario\", StringType(), True),\n",
    "    StructField(\"apellidopaterno\", StringType(), True),\n",
    "    StructField(\"apellidomaterno\", StringType(), True),\n",
    "    StructField(\"nombres\", StringType(), True),\n",
    "    StructField(\"sexo\", StringType(), True),\n",
    "    StructField(\"tipobeneficiario\", StringType(), True),\n",
    "    StructField(\"situacioninvalidez\", StringType(), True),\n",
    "    StructField(\"fechanacimiento\", StringType(), True),\n",
    "    StructField(\"edad\", LongType(), True),\n",
    "    StructField(\"numdependentes\", LongType(), True),\n",
    "    StructField(\"fechafallecimiento\", StringType(), True),\n",
    "    StructField(\"fechainvalidez\", StringType(), True),\n",
    "    StructField(\"derechopension\", StringType(), True),\n",
    "    StructField(\"requisitopension\", StringType(), True),\n",
    "    StructField(\"relacionhijomadre\", StringType(), True),\n",
    "    StructField(\"fechanacimientohijomenor\", StringType(), True),\n",
    "    StructField(\"derechoacrecer\", StringType(), True),\n",
    "    StructField(\"porcentajepension\", LongType(), True),\n",
    "    StructField(\"pensionpersona\", StringType(), True)]\n",
    ")\n",
    "    "
   ]
  },
  {
   "cell_type": "code",
   "execution_count": null,
   "id": "243239f5-2809-4620-8b83-7854b66e30c7",
   "metadata": {},
   "outputs": [],
   "source": [
    "#sc = SparkContext(appname=\"name\")\n",
    "spark_session = SparkSession.builder.appName('cluster').getOrCreate()\n",
    "spark_session"
   ]
  },
  {
   "cell_type": "code",
   "execution_count": null,
   "id": "0c3d10bc-9983-4b57-807c-e0a6fe5fd912",
   "metadata": {},
   "outputs": [],
   "source": [
    "dataset = spark_session.read.option(\"header\",True).schema(schema=Schema).csv(\"tb_Previsionales_Beneficiarios.csv\")"
   ]
  },
  {
   "cell_type": "code",
   "execution_count": null,
   "id": "087b0bf1-eaa4-4d8d-ab80-da7aad667af5",
   "metadata": {},
   "outputs": [],
   "source": [
    "dataset.printSchema()"
   ]
  },
  {
   "cell_type": "code",
   "execution_count": null,
   "id": "f849728b-6be8-480e-82d0-2a7cead843d3",
   "metadata": {},
   "outputs": [],
   "source": [
    "dataset.count()"
   ]
  },
  {
   "cell_type": "code",
   "execution_count": null,
   "id": "f6940003-9c01-4044-aef2-7620b18239f9",
   "metadata": {
    "tags": []
   },
   "outputs": [],
   "source": [
    "#remove NA from all columns\n",
    "#dataset = dataset.dropna('any')\n",
    "#dataset.count()"
   ]
  },
  {
   "cell_type": "code",
   "execution_count": null,
   "id": "bda6b43b-b659-40a3-94d5-42808eaed549",
   "metadata": {},
   "outputs": [],
   "source": [
    "#distinct count edad\n",
    "#dataset.select(\"edad\").dropDuplicates().count()\n",
    "dataset.select(\"tipobeneficiario\").distinct().collect()"
   ]
  },
  {
   "cell_type": "code",
   "execution_count": null,
   "id": "e7e4d1d3-d8c6-4c74-be1e-900613681526",
   "metadata": {},
   "outputs": [],
   "source": [
    "#fill na\n",
    "dataset.fillna(0, subset=[\"tipobeneficiario\"]).count()"
   ]
  },
  {
   "cell_type": "code",
   "execution_count": null,
   "id": "23f677f0-18d3-4bb8-b0c4-6b1e20efa397",
   "metadata": {},
   "outputs": [],
   "source": [
    "#replace null by empty\n",
    "\n",
    "dataset.na.fill(\"\", subset=[\"fechanacimientohijomenor\"])"
   ]
  },
  {
   "cell_type": "code",
   "execution_count": null,
   "id": "b8fb7fa2-d248-4507-b47d-41f1209dd18a",
   "metadata": {},
   "outputs": [],
   "source": [
    "#Where\n",
    "dataset.where(\"tipobeneficiario='50'\").count()"
   ]
  },
  {
   "cell_type": "code",
   "execution_count": null,
   "id": "11dc624f-1823-48a5-bfac-458b87bd4131",
   "metadata": {},
   "outputs": [],
   "source": [
    "#replace columns values\n",
    "from pyspark.sql.functions import when\n",
    "\n",
    "dataset = dataset.withColumn(\"tipobeneficiario\",\n",
    "        when(dataset[\"tipobeneficiario\"]==\"50\",\"999\").otherwise(dataset[\"tipobeneficiario\"]))"
   ]
  },
  {
   "cell_type": "code",
   "execution_count": null,
   "id": "73630023-2bea-4b39-991a-f40662c31f8e",
   "metadata": {},
   "outputs": [],
   "source": [
    "#Cast variables\n",
    "dataset = dataset.withColumn(\"edad\", dataset[\"edad\"].cast(\"Integer\"))\n",
    "#dataset.printSchema()\n"
   ]
  },
  {
   "cell_type": "code",
   "execution_count": null,
   "id": "369c8615-091a-46d8-8e7d-158724be1a96",
   "metadata": {},
   "outputs": [],
   "source": [
    "#GroupBy\n",
    "dataset.groupBy(\"sexo\").mean(\"edad\").show()"
   ]
  },
  {
   "cell_type": "code",
   "execution_count": null,
   "id": "81e07de9-072a-4e28-a5ca-afcd5cbdb185",
   "metadata": {},
   "outputs": [],
   "source": [
    "#orderby\n",
    "\n",
    "dataset.orderBy(\"nombres\").show(truncate = True)"
   ]
  },
  {
   "cell_type": "code",
   "execution_count": null,
   "id": "4937a49c-426f-4f17-a0a2-218edaf94592",
   "metadata": {},
   "outputs": [],
   "source": [
    "dataset.createOrReplaceTempView(\"datasetSQL\")\n",
    "\n",
    "#spark_session.sql(\"Select distinct dvrutbeneficiario from datasetSQL\").show()\n",
    "spark_session.sql(\"SELECT count(tipobeneficiario) FROM datasetSQL WHERE tipobeneficiario != ''\").show()\n",
    "                  "
   ]
  },
  {
   "cell_type": "code",
   "execution_count": null,
   "id": "b4593da7-1108-4aad-9099-3f161f07eadd",
   "metadata": {},
   "outputs": [],
   "source": [
    "dataset = dataset.withColumn(\"newcolumn\", dataset['column'].split(col(\"column\"),\"/\").getitem(0))"
   ]
  },
  {
   "cell_type": "code",
   "execution_count": null,
   "id": "2044bf4d-a2e4-48a0-9894-ff174531946d",
   "metadata": {},
   "outputs": [],
   "source": [
    "dataset.createOrReplaceTempView(\"new_table\")\n",
    "spark_session.sql(\"Select * from new_table\")"
   ]
  },
  {
   "cell_type": "code",
   "execution_count": null,
   "id": "2f7cbfec-7d09-4320-bd15-927d9a7e9fe3",
   "metadata": {},
   "outputs": [],
   "source": [
    "spark_session.stop()\n"
   ]
  },
  {
   "cell_type": "code",
   "execution_count": null,
   "id": "e6f1467e-edd8-48f9-80e9-df67eed4eb6a",
   "metadata": {},
   "outputs": [],
   "source": []
  }
 ],
 "metadata": {
  "kernelspec": {
   "display_name": "Python 3 (ipykernel)",
   "language": "python",
   "name": "python3"
  },
  "language_info": {
   "codemirror_mode": {
    "name": "ipython",
    "version": 3
   },
   "file_extension": ".py",
   "mimetype": "text/x-python",
   "name": "python",
   "nbconvert_exporter": "python",
   "pygments_lexer": "ipython3",
   "version": "3.9.13"
  }
 },
 "nbformat": 4,
 "nbformat_minor": 5
}
